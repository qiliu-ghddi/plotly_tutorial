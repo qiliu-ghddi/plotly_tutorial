{
 "cells": [
  {
   "cell_type": "markdown",
   "metadata": {},
   "source": [
    "# An example notebook for looking at data with multiple structures per row"
   ]
  },
  {
   "cell_type": "markdown",
   "metadata": {},
   "source": [
    "## Imports and loading the data"
   ]
  },
  {
   "cell_type": "code",
   "execution_count": 1,
   "metadata": {},
   "outputs": [],
   "source": [
    "import pandas as pd\n",
    "import plotly.express as px\n",
    "import numpy as np\n",
    "import molplotly\n",
    "from rdkit import Chem\n",
    "from rdkit.Chem import AllChem"
   ]
  },
  {
   "cell_type": "markdown",
   "metadata": {},
   "source": [
    "The most common use case for seeing multiple structures per row is reaction yield prediction. B.J. Shields et al. released a very nicely structured dataset in their 2021 paper [Bayesian reaction optimization as a tool for chemical synthesis](https://doi.org/10.1038/s41586-021-03213-y), which we will use as an example."
   ]
  },
  {
   "cell_type": "code",
   "execution_count": 2,
   "metadata": {},
   "outputs": [
    {
     "data": {
      "text/html": [
       "<div>\n",
       "<style scoped>\n",
       "    .dataframe tbody tr th:only-of-type {\n",
       "        vertical-align: middle;\n",
       "    }\n",
       "\n",
       "    .dataframe tbody tr th {\n",
       "        vertical-align: top;\n",
       "    }\n",
       "\n",
       "    .dataframe thead th {\n",
       "        text-align: right;\n",
       "    }\n",
       "</style>\n",
       "<table border=\"1\" class=\"dataframe\">\n",
       "  <thead>\n",
       "    <tr style=\"text-align: right;\">\n",
       "      <th></th>\n",
       "      <th>Aryl_halide_SMILES</th>\n",
       "      <th>Additive_SMILES</th>\n",
       "      <th>Base_SMILES</th>\n",
       "      <th>Ligand_SMILES</th>\n",
       "      <th>yield</th>\n",
       "    </tr>\n",
       "    <tr>\n",
       "      <th>entry</th>\n",
       "      <th></th>\n",
       "      <th></th>\n",
       "      <th></th>\n",
       "      <th></th>\n",
       "      <th></th>\n",
       "    </tr>\n",
       "  </thead>\n",
       "  <tbody>\n",
       "    <tr>\n",
       "      <th>49</th>\n",
       "      <td>FC(F)(F)c1ccc(Cl)cc1</td>\n",
       "      <td>o1nccc1c2ccccc2</td>\n",
       "      <td>CN(C)P(N(C)C)(N(C)C)=NP(N(C)C)(N(C)C)=NCC</td>\n",
       "      <td>CC(C)C1=CC(C(C)C)=CC(C(C)C)=C1C2=C(P(C3CCCCC3)...</td>\n",
       "      <td>10.657812</td>\n",
       "    </tr>\n",
       "    <tr>\n",
       "      <th>50</th>\n",
       "      <td>FC(F)(F)c1ccc(Br)cc1</td>\n",
       "      <td>o1nccc1c2ccccc2</td>\n",
       "      <td>CN(C)P(N(C)C)(N(C)C)=NP(N(C)C)(N(C)C)=NCC</td>\n",
       "      <td>CC(C)C1=CC(C(C)C)=CC(C(C)C)=C1C2=C(P(C3CCCCC3)...</td>\n",
       "      <td>14.747896</td>\n",
       "    </tr>\n",
       "    <tr>\n",
       "      <th>51</th>\n",
       "      <td>FC(F)(F)c1ccc(I)cc1</td>\n",
       "      <td>o1nccc1c2ccccc2</td>\n",
       "      <td>CN(C)P(N(C)C)(N(C)C)=NP(N(C)C)(N(C)C)=NCC</td>\n",
       "      <td>CC(C)C1=CC(C(C)C)=CC(C(C)C)=C1C2=C(P(C3CCCCC3)...</td>\n",
       "      <td>18.278686</td>\n",
       "    </tr>\n",
       "    <tr>\n",
       "      <th>52</th>\n",
       "      <td>COc1ccc(Cl)cc1</td>\n",
       "      <td>o1nccc1c2ccccc2</td>\n",
       "      <td>CN(C)P(N(C)C)(N(C)C)=NP(N(C)C)(N(C)C)=NCC</td>\n",
       "      <td>CC(C)C1=CC(C(C)C)=CC(C(C)C)=C1C2=C(P(C3CCCCC3)...</td>\n",
       "      <td>2.475058</td>\n",
       "    </tr>\n",
       "    <tr>\n",
       "      <th>53</th>\n",
       "      <td>COc1ccc(Br)cc1</td>\n",
       "      <td>o1nccc1c2ccccc2</td>\n",
       "      <td>CN(C)P(N(C)C)(N(C)C)=NP(N(C)C)(N(C)C)=NCC</td>\n",
       "      <td>CC(C)C1=CC(C(C)C)=CC(C(C)C)=C1C2=C(P(C3CCCCC3)...</td>\n",
       "      <td>6.119058</td>\n",
       "    </tr>\n",
       "    <tr>\n",
       "      <th>...</th>\n",
       "      <td>...</td>\n",
       "      <td>...</td>\n",
       "      <td>...</td>\n",
       "      <td>...</td>\n",
       "      <td>...</td>\n",
       "    </tr>\n",
       "    <tr>\n",
       "      <th>4603</th>\n",
       "      <td>Brc1ccccn1</td>\n",
       "      <td>COC(=O)c1cc(on1)c2sccc2</td>\n",
       "      <td>CN1CCCN2CCCN=C12</td>\n",
       "      <td>CC(C1=C(C2=C(OC)C=CC(OC)=C2P(C34CC5CC(C4)CC(C5...</td>\n",
       "      <td>57.426670</td>\n",
       "    </tr>\n",
       "    <tr>\n",
       "      <th>4604</th>\n",
       "      <td>Ic1ccccn1</td>\n",
       "      <td>COC(=O)c1cc(on1)c2sccc2</td>\n",
       "      <td>CN1CCCN2CCCN=C12</td>\n",
       "      <td>CC(C1=C(C2=C(OC)C=CC(OC)=C2P(C34CC5CC(C4)CC(C5...</td>\n",
       "      <td>86.233157</td>\n",
       "    </tr>\n",
       "    <tr>\n",
       "      <th>4605</th>\n",
       "      <td>Clc1cccnc1</td>\n",
       "      <td>COC(=O)c1cc(on1)c2sccc2</td>\n",
       "      <td>CN1CCCN2CCCN=C12</td>\n",
       "      <td>CC(C1=C(C2=C(OC)C=CC(OC)=C2P(C34CC5CC(C4)CC(C5...</td>\n",
       "      <td>1.440081</td>\n",
       "    </tr>\n",
       "    <tr>\n",
       "      <th>4606</th>\n",
       "      <td>Brc1cccnc1</td>\n",
       "      <td>COC(=O)c1cc(on1)c2sccc2</td>\n",
       "      <td>CN1CCCN2CCCN=C12</td>\n",
       "      <td>CC(C1=C(C2=C(OC)C=CC(OC)=C2P(C34CC5CC(C4)CC(C5...</td>\n",
       "      <td>43.538365</td>\n",
       "    </tr>\n",
       "    <tr>\n",
       "      <th>4607</th>\n",
       "      <td>Ic1cccnc1</td>\n",
       "      <td>COC(=O)c1cc(on1)c2sccc2</td>\n",
       "      <td>CN1CCCN2CCCN=C12</td>\n",
       "      <td>CC(C1=C(C2=C(OC)C=CC(OC)=C2P(C34CC5CC(C4)CC(C5...</td>\n",
       "      <td>69.795902</td>\n",
       "    </tr>\n",
       "  </tbody>\n",
       "</table>\n",
       "<p>3955 rows × 5 columns</p>\n",
       "</div>"
      ],
      "text/plain": [
       "         Aryl_halide_SMILES          Additive_SMILES  \\\n",
       "entry                                                  \n",
       "49     FC(F)(F)c1ccc(Cl)cc1          o1nccc1c2ccccc2   \n",
       "50     FC(F)(F)c1ccc(Br)cc1          o1nccc1c2ccccc2   \n",
       "51      FC(F)(F)c1ccc(I)cc1          o1nccc1c2ccccc2   \n",
       "52           COc1ccc(Cl)cc1          o1nccc1c2ccccc2   \n",
       "53           COc1ccc(Br)cc1          o1nccc1c2ccccc2   \n",
       "...                     ...                      ...   \n",
       "4603             Brc1ccccn1  COC(=O)c1cc(on1)c2sccc2   \n",
       "4604              Ic1ccccn1  COC(=O)c1cc(on1)c2sccc2   \n",
       "4605             Clc1cccnc1  COC(=O)c1cc(on1)c2sccc2   \n",
       "4606             Brc1cccnc1  COC(=O)c1cc(on1)c2sccc2   \n",
       "4607              Ic1cccnc1  COC(=O)c1cc(on1)c2sccc2   \n",
       "\n",
       "                                     Base_SMILES  \\\n",
       "entry                                              \n",
       "49     CN(C)P(N(C)C)(N(C)C)=NP(N(C)C)(N(C)C)=NCC   \n",
       "50     CN(C)P(N(C)C)(N(C)C)=NP(N(C)C)(N(C)C)=NCC   \n",
       "51     CN(C)P(N(C)C)(N(C)C)=NP(N(C)C)(N(C)C)=NCC   \n",
       "52     CN(C)P(N(C)C)(N(C)C)=NP(N(C)C)(N(C)C)=NCC   \n",
       "53     CN(C)P(N(C)C)(N(C)C)=NP(N(C)C)(N(C)C)=NCC   \n",
       "...                                          ...   \n",
       "4603                            CN1CCCN2CCCN=C12   \n",
       "4604                            CN1CCCN2CCCN=C12   \n",
       "4605                            CN1CCCN2CCCN=C12   \n",
       "4606                            CN1CCCN2CCCN=C12   \n",
       "4607                            CN1CCCN2CCCN=C12   \n",
       "\n",
       "                                           Ligand_SMILES      yield  \n",
       "entry                                                                \n",
       "49     CC(C)C1=CC(C(C)C)=CC(C(C)C)=C1C2=C(P(C3CCCCC3)...  10.657812  \n",
       "50     CC(C)C1=CC(C(C)C)=CC(C(C)C)=C1C2=C(P(C3CCCCC3)...  14.747896  \n",
       "51     CC(C)C1=CC(C(C)C)=CC(C(C)C)=C1C2=C(P(C3CCCCC3)...  18.278686  \n",
       "52     CC(C)C1=CC(C(C)C)=CC(C(C)C)=C1C2=C(P(C3CCCCC3)...   2.475058  \n",
       "53     CC(C)C1=CC(C(C)C)=CC(C(C)C)=C1C2=C(P(C3CCCCC3)...   6.119058  \n",
       "...                                                  ...        ...  \n",
       "4603   CC(C1=C(C2=C(OC)C=CC(OC)=C2P(C34CC5CC(C4)CC(C5...  57.426670  \n",
       "4604   CC(C1=C(C2=C(OC)C=CC(OC)=C2P(C34CC5CC(C4)CC(C5...  86.233157  \n",
       "4605   CC(C1=C(C2=C(OC)C=CC(OC)=C2P(C34CC5CC(C4)CC(C5...   1.440081  \n",
       "4606   CC(C1=C(C2=C(OC)C=CC(OC)=C2P(C34CC5CC(C4)CC(C5...  43.538365  \n",
       "4607   CC(C1=C(C2=C(OC)C=CC(OC)=C2P(C34CC5CC(C4)CC(C5...  69.795902  \n",
       "\n",
       "[3955 rows x 5 columns]"
      ]
     },
     "execution_count": 2,
     "metadata": {},
     "output_type": "execute_result"
    }
   ],
   "source": [
    "# df = pd.read_csv('https://raw.githubusercontent.com/b-shields/edbo/master/experiments/data/aryl_amination/experiment_index.csv',\n",
    "#                  index_col=0)\n",
    "df = pd.read_csv('experiment_index.csv',\n",
    "                 index_col=0)\n",
    "df"
   ]
  },
  {
   "cell_type": "markdown",
   "metadata": {},
   "source": [
    "## Data Modelling"
   ]
  },
  {
   "cell_type": "markdown",
   "metadata": {},
   "source": [
    "To see the plotting in action, we first construct a simple regression model using Morgan fingerprints and a Random Forest model."
   ]
  },
  {
   "cell_type": "code",
   "execution_count": 3,
   "metadata": {},
   "outputs": [],
   "source": [
    "def constructInputArray(df, columns, encoder):\n",
    "    \"\"\"Construct a numpy array from the provided dataframe columns\n",
    "       using the encoder function.\n",
    "    Args:\n",
    "        df (pd.DataFrame): DataFrame containing the data.\n",
    "        columns (list[str]): Which columns to use for featurizing the data.\n",
    "        encoder (function): Function that transforms data in the provided columns into features.\n",
    "\n",
    "    Returns:\n",
    "        np.ndarray: Featurized data\n",
    "    \"\"\"\n",
    "    encodings = encoder(df, columns)\n",
    "    input_list = []\n",
    "    for col in columns:\n",
    "        tmp_list = [encodings[x] for x in df[col]]\n",
    "        tmp_stacked = np.concatenate(tmp_list)\n",
    "        input_list.append(tmp_stacked)\n",
    "    return np.concatenate(input_list, axis=1)\n",
    "\n",
    "def morganFingerprintEncoder(df, columns):\n",
    "    \"\"\"Read the unique values in the provided columns of the df and return\n",
    "       dictionary of features for each unique value.\n",
    "    Args:\n",
    "        df (pd.DataFrame): DataFrame containing the data.\n",
    "        columns (list[str]): Which columns to use for featurizing the data.\n",
    "\n",
    "    Returns:\n",
    "        dict: Where keys are unique molecules and values are the corresponding Morgan Fingerpritns\n",
    "    \"\"\"\n",
    "    df_slice = df[columns]\n",
    "    unique_vals = np.unique(df_slice.values)\n",
    "    out_dict = {}\n",
    "    for val in unique_vals:\n",
    "        mol = Chem.MolFromSmiles(val)\n",
    "        out_dict[val] = np.asarray(AllChem.GetMorganFingerprintAsBitVect(mol,2,nBits=1024)).reshape(1,-1)\n",
    "    return out_dict"
   ]
  },
  {
   "cell_type": "markdown",
   "metadata": {},
   "source": [
    "Do a random split of the data."
   ]
  },
  {
   "cell_type": "code",
   "execution_count": 4,
   "metadata": {},
   "outputs": [],
   "source": [
    "df_train = df.sample(frac=.1)\n",
    "df_test = df.drop(index=df_train.index)\n",
    "smile_cols = ['Aryl_halide_SMILES', 'Additive_SMILES', 'Base_SMILES', 'Ligand_SMILES']\n",
    "X_train = constructInputArray(df_train, smile_cols,\n",
    "                        morganFingerprintEncoder)\n",
    "Y_train = df_train['yield'].values\n",
    "X_test = constructInputArray(df_test, smile_cols,\n",
    "                        morganFingerprintEncoder)"
   ]
  },
  {
   "cell_type": "code",
   "execution_count": 5,
   "metadata": {},
   "outputs": [],
   "source": [
    "from sklearn.ensemble import RandomForestRegressor"
   ]
  },
  {
   "cell_type": "markdown",
   "metadata": {},
   "source": [
    "Train the model and get the predictions."
   ]
  },
  {
   "cell_type": "code",
   "execution_count": 6,
   "metadata": {},
   "outputs": [
    {
     "data": {
      "text/plain": [
       "RandomForestRegressor()"
      ]
     },
     "execution_count": 6,
     "metadata": {},
     "output_type": "execute_result"
    }
   ],
   "source": [
    "model = RandomForestRegressor()\n",
    "model.fit(X_train, Y_train)"
   ]
  },
  {
   "cell_type": "code",
   "execution_count": 7,
   "metadata": {},
   "outputs": [],
   "source": [
    "Y_pred = model.predict(X_test)\n",
    "df_test['yield_pred'] = Y_pred"
   ]
  },
  {
   "cell_type": "markdown",
   "metadata": {},
   "source": [
    "## Data Plotting"
   ]
  },
  {
   "cell_type": "markdown",
   "metadata": {},
   "source": [
    "Now we can use molplotly to see all the components corresponding to each point in the scatter plot! Select the SMILES columns you'd like to plot by choosing from the dropdown menu :)"
   ]
  },
  {
   "cell_type": "code",
   "execution_count": 8,
   "metadata": {},
   "outputs": [
    {
     "data": {
      "text/html": [
       "\n",
       "        <iframe\n",
       "            width=\"100%\"\n",
       "            height=\"1000\"\n",
       "            src=\"http://127.0.0.1:8751/\"\n",
       "            frameborder=\"0\"\n",
       "            allowfullscreen\n",
       "        ></iframe>\n",
       "        "
      ],
      "text/plain": [
       "<IPython.lib.display.IFrame at 0x7f7fd8c6cb38>"
      ]
     },
     "metadata": {},
     "output_type": "display_data"
    }
   ],
   "source": [
    "fig_scatter = px.scatter(df_test,\n",
    "                         x=\"yield\",\n",
    "                         y=\"yield_pred\",\n",
    "                         title='Regression with many smiles columns!',\n",
    "                         labels={'yield': 'Measured yield',\n",
    "                                 'yield_pred': 'Predicted yield'},\n",
    "                         width=1200,\n",
    "                         height=800)\n",
    "\n",
    "app_scatter = molplotly.add_molecules(fig=fig_scatter,\n",
    "                                      df=df_test,\n",
    "                                    #   smiles_col='Base_SMILES'\n",
    "                                      smiles_col=smile_cols,\n",
    "                                      )\n",
    "\n",
    "# change the arguments here to run the dash app on an external server and/or change the size of the app!\n",
    "app_scatter.run_server(mode='inline', port=8751, height=1000)\n"
   ]
  },
  {
   "cell_type": "code",
   "execution_count": null,
   "metadata": {},
   "outputs": [],
   "source": []
  }
 ],
 "metadata": {
  "kernelspec": {
   "display_name": "Python 3.6.13 ('pyg-py36-cpu')",
   "language": "python",
   "name": "python3"
  },
  "language_info": {
   "codemirror_mode": {
    "name": "ipython",
    "version": 3
   },
   "file_extension": ".py",
   "mimetype": "text/x-python",
   "name": "python",
   "nbconvert_exporter": "python",
   "pygments_lexer": "ipython3",
   "version": "3.6.13"
  },
  "orig_nbformat": 4,
  "vscode": {
   "interpreter": {
    "hash": "5d2438ab04f16f6407d3e8df9a75f59864d27f3115fe8cf2c70815de5cc36c42"
   }
  }
 },
 "nbformat": 4,
 "nbformat_minor": 2
}
